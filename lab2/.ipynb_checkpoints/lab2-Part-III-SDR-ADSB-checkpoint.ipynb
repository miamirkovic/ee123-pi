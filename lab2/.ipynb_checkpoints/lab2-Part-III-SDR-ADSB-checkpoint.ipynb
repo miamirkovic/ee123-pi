{
 "cells": [
  {
   "cell_type": "markdown",
   "metadata": {},
   "source": [
    "# EE123 Lab 2: Software Defined Radio - Part III\n",
    "\n",
    "### Written by Miki Lustig and Frank Ong"
   ]
  },
  {
   "cell_type": "code",
   "execution_count": 359,
   "metadata": {},
   "outputs": [],
   "source": [
    "\n",
    "# Import functions and libraries\n",
    "from __future__ import division\n",
    "import numpy as np, matplotlib.pyplot as plt\n",
    "from numpy import *\n",
    "from numpy.fft import *\n",
    "from matplotlib.pyplot import *\n",
    "from rtlsdr import RtlSdr\n",
    "import threading,time\n",
    "import scipy.signal as sig\n",
    "import gc\n",
    "import pyModeS as pms\n",
    "\n",
    "#import bokeh.plotting as bk\n",
    "#from bokeh.models import ColumnDataSource\n",
    "#from bokeh.io import push_notebook\n",
    "#bk.output_notebook()\n",
    "#from IPython.html.widgets import interact\n",
    "\n",
    "\n",
    "%matplotlib inline"
   ]
  },
  {
   "cell_type": "markdown",
   "metadata": {},
   "source": [
    "## Task II: Capturing, detecting and extracting Mode S ADS-B Packets with RTL-SDR\n",
    "\n",
    "The following text is adapted from (https://github.com/bistromath/gr-air-modes).\n",
    "\n",
    "__Mode S__ is the transponder protocol used in modern commercial aircraft.\n",
    "A Mode S-equipped aircraft replies to radar interrogation by either\n",
    "ground radar (secondary surveillance) or other aircraft (\"Traffic\n",
    "Collision Avoidance System\", or TCAS).\n",
    "\n",
    "__Automatic Dependent Surveillance-Broadcast (ADS-B)__ is a communication\n",
    "protocol using the Extended Squitter capability of the Mode S transport\n",
    "layer.  The protocol is:\n",
    "\n",
    "* Automatic: it requires no pilot input\n",
    "* Dependent: it is dependent on altimeter, GPS, and other aircraft\n",
    "  instrumentation for information\n",
    "* Surveillance: it provides current information about the transmitting\n",
    "  aircraft\n",
    "* Broadcast: it is one-way, broadcast to all receivers within range.\n",
    "\n",
    "ADS-B-equipped aircraft broadcast (\"squitter\") their position, velocity,\n",
    "flight number, and other interesting information to any receiver within\n",
    "range of the aircraft. Position reports are typically generated once per\n",
    "second and flight indentification every five seconds.\n",
    "\n",
    "Packets are sent at 1090Mhz and use Pulse Position Modulation (PPM) at a rate of 1Mbit per second. The simple modulation scheme is designed to be trancieved by cheap hardware -- which is very much what we are doing in this lab!\n",
    "\n",
    "Pulse position modulation belongs to the family of amplitude modulated signals and in particular to the type of amplitude-shift-keying (ASK) or on-off-keying (OOK). In OOK, `0`, `1` bits are sent by turning the carrier on and off. PPM uses [Manchester](http://en.wikipedia.org/wiki/Manchester_code) encoding variant of OOK. The idea in Machester encoding is that in each bit interval there is always a transition between on and off and the transition occurs in the middle of the bit interval. For example, a transition from off to on would represent a `0` and a transition from on to off would represent a `1`. Manchester codes have the advantage of being self clocking so the clock can be recovered from the data stream. \n",
    "\n",
    "A mode S ADS-B packet consists of an $8\\mu$s preamble followed by a data block of 56 or 112 $\\mu$s data block. A preamble is a signal used in network communications to synchronize transmission timing between two or more systems. Here's a diagram that illustrates a typical packet:\n",
    "\n",
    "\n",
    "<img src=\"https://inst.eecs.berkeley.edu/~ee123/sp14/lab/adsb-packet.png\" alt=\"Drawing\" style=\"height: 200px;\"/>\n",
    "\n",
    "Now, since the bit-rate is 1Mbit per second, then a sampling rate of 2Msample/sec should be sufficient to capture the bit transitions, detect the preamble and deode packets. In practice, ADS-B packets can be decoded using the rtl-sdr, but the captured data does not look like the ideal packet. Here's an example of a part of a captured packet:\n",
    "\n",
    "<img src=\"https://inst.eecs.berkeley.edu/~ee123/sp14/lab/real_adsb_packet.png\" alt=\"Drawing\" style=\"height: 200px;\"/>\n",
    "\n",
    "( This packet is rescaled to have a maximum amplitude of 128. Your packet does not neccessarily have this height, in fact, the maximum value of packets you will receive will be between 0.0 and 1.0)\n",
    "\n",
    "\n",
    "As you can see, there are many distortions: the key-off is not zero and there are variations in the amplitudes of the key-on. These come from various sources including the anti-aliasing filters, interfering signals, noise, gain control and more. However, it is possible to clearly see the preamble and the packet bit content! This is pretty amazing that this can be done using a 12$ usb dongle because ADS-B equipment is very expensive.\n",
    "\n",
    "There are several types and subtypes of \"Squitters\":\n",
    "\n",
    "* Short squitters are 56bits (8bits Control,  24bits address, 24bits parity check)\n",
    "* Long squitters are 112bits (8bits control, 24bits address, 56bits ADS message, 24bits parity)\n",
    "\n",
    "Only the long squitters have location information in them. "
   ]
  },
  {
   "cell_type": "markdown",
   "metadata": {},
   "source": [
    "### Task: Acquire samples  \n",
    "When acquiring data, it is highly recommneded that you be OUTSIDE or close to a BIG window. Electromagnetic radiation at 1090MHz does not penetrate through walls. In addition, the antenna you got with the dongle is not ideal for ADS-B reception. It is also recommended that you do this part during the day and not at night, when the air-traffic in the bay area is low. \n",
    "\n",
    "_Remember that the absolute gain of the signal is not important. It is the relative gain between your signal and noise that affects the detection, so a higher SDR gain does not mean a better signal-to-noise ratio (SNR)._\n",
    "\n",
    "* Set the rtl-sdr to a center frequency of 1090MHz, sampling rate of 2MS/s and a gain slightly higher than the middle in the list of possible gains (37-42 are good choices). You can play with the gain later if the results are not satisfactory. \n",
    "* Acquire 2,048,000 samples (approx 1 sec) and take their magnitude. We will only work with magnitude data. \n",
    "* Plot the magnitude of the received signal. Do you see any strong bursts in the amplitude? If you don't, repeat this task untill you do. This will make sure you have data to work with.\n",
    "* If you see very small values where \"noise\" is, that means that your gain is too low. Try increasing the gain.\n",
    "\n",
    "\n",
    "#### Memory leakage problem with matplotlib\n",
    "It turns out that there's a memory leakage problem in matplotlib. If you plot repeatedly, some memory will not be cleared. This can be a problem on the raspberryPi, which has limited amount of memory. \n",
    "\n",
    "To check the memory status on the pi:\n",
    "```\n",
    "! free  -h\n",
    "```\n",
    "\n",
    "If you have less than 500Mb, then you will have trouble as we move forward with the lab. \n",
    "\n",
    "\n",
    "A work around for clearing most of the memory leak is to run the following code **after** plotting:\n",
    "```\n",
    "%xdel -n fig\n",
    "%xdel -n p\n",
    "gc.collect(2) # Garbage collection for python\n",
    "``` \n"
   ]
  },
  {
   "cell_type": "code",
   "execution_count": 414,
   "metadata": {},
   "outputs": [
    {
     "data": {
      "image/png": "[encoded data removed]",
      "text/plain": [
       "<matplotlib.figure.Figure at 0x12c42f860>"
      ]
     },
     "metadata": {},
     "output_type": "display_data"
    }
   ],
   "source": [
    "%matplotlib inline\n",
    "\n",
    "# acquire data\n",
    "\n",
    "sdr = RtlSdr()\n",
    "fs = 2000000;\n",
    "sdr.set_sample_rate(fs)    # sampling rate\n",
    "sdr.set_center_freq(1090e6)   # 1090MhZ center frequency\n",
    "sdr.set_gain(43.4) \n",
    "N_Samples = 2048000 # approx 1 sec\n",
    "y = abs(sdr.read_samples(N_Samples))   # get samples\n",
    "\n",
    "\n",
    "width, height = figaspect(0.2)\n",
    "fig = figure(figsize=(width,height))\n",
    "p = plot((y))\n",
    "title('magnitude of received signal')\n",
    "xlabel('samples')\n",
    "\n",
    "sdr.close()\n",
    "\n",
    "\n"
   ]
  },
  {
   "cell_type": "code",
   "execution_count": 367,
   "metadata": {},
   "outputs": [
    {
     "name": "stdout",
     "output_type": "stream",
     "text": [
      "/bin/sh: free: command not found\r\n"
     ]
    }
   ],
   "source": [
    "! free -h"
   ]
  },
  {
   "cell_type": "code",
   "execution_count": 368,
   "metadata": {},
   "outputs": [
    {
     "data": {
      "text/plain": [
       "46281"
      ]
     },
     "execution_count": 368,
     "metadata": {},
     "output_type": "execute_result"
    }
   ],
   "source": [
    "%xdel -n fig\n",
    "%xdel -n p\n",
    "gc.collect(2)"
   ]
  },
  {
   "cell_type": "code",
   "execution_count": null,
   "metadata": {
    "collapsed": true
   },
   "outputs": [],
   "source": [
    "! free -h"
   ]
  },
  {
   "cell_type": "markdown",
   "metadata": {},
   "source": [
    "* Save the magnitude of the data to a file. This will help you in the programming and debugging portions, so you don't have to reacquire date and rely on airplanes to be present all the time. Use the feature `np.save('adsb.npy',y)` to save the array. Use `np.load` to load it back. You can also use the data we provided for you (through the lab link) for debugging, but please submit plots from your OWN data. "
   ]
  },
  {
   "cell_type": "code",
   "execution_count": 394,
   "metadata": {
    "collapsed": true
   },
   "outputs": [],
   "source": [
    "#np.save('adsb_mine_1.npy',y)"
   ]
  },
  {
   "cell_type": "code",
   "execution_count": 415,
   "metadata": {},
   "outputs": [
    {
     "name": "stdout",
     "output_type": "stream",
     "text": [
      "[ 0.02588035  0.07764104  0.05787022 ...,  0.05787022  0.02588035\n",
      "  0.02588035]\n"
     ]
    }
   ],
   "source": [
    "y = np.load('adsb_mine_1.npy')\n",
    "fs = 2000000;\n",
    "\n",
    "y = abs(y) / max(abs(y))\n",
    "\n",
    "print(y)"
   ]
  },
  {
   "cell_type": "markdown",
   "metadata": {},
   "source": [
    "Before we start at automatically detecting packet, let's look at one. Use the ``%matplotlib notebook`` interactive interface for the plotting to help you scroll through the signal. \n",
    "\n",
    "* Manually look for a packet in the received signal. Look for ones with high amplitude. You can use `nonzero(y == max(abs( y)))[0]` to find the index of the maximum signal. \n",
    "* Display the packet from `idx` to `idx + 16 + 112 * 2`, where `idx` is the start index of the packet"
   ]
  },
  {
   "cell_type": "code",
   "execution_count": 425,
   "metadata": {},
   "outputs": [
    {
     "name": "stdout",
     "output_type": "stream",
     "text": [
      "[1490524]\n"
     ]
    },
    {
     "data": {
      "image/png": "[encoded data removed]",
      "text/plain": [
       "<matplotlib.figure.Figure at 0x13b5c8be0>"
      ]
     },
     "metadata": {},
     "output_type": "display_data"
    }
   ],
   "source": [
    "%matplotlib inline \n",
    "\n",
    "width, height = figaspect(0.3)\n",
    "fig = figure(figsize=(width,height))\n",
    "p = plt.plot( r_[0:len(y)],abs(y))\n",
    "title('magnitude of received signal')\n",
    "xlabel('samples')\n",
    "\n",
    "print(nonzero(y == max(abs( y)))[0])\n",
    "\n"
   ]
  },
  {
   "cell_type": "code",
   "execution_count": 428,
   "metadata": {},
   "outputs": [
    {
     "data": {
      "text/plain": [
       "<Container object of 3 artists>"
      ]
     },
     "execution_count": 428,
     "metadata": {},
     "output_type": "execute_result"
    },
    {
     "data": {
      "image/png": "[encoded data removed]",
      "text/plain": [
       "<matplotlib.figure.Figure at 0x1389cc0f0>"
      ]
     },
     "metadata": {},
     "output_type": "display_data"
    }
   ],
   "source": [
    "# Display the chunk\n",
    "%matplotlib inline\n",
    "#idx = nonzero(y == max(abs(y)))[0]\n",
    "#print(idx)\n",
    "\n",
    "idx = 1490510\n",
    "chunk_length = 112 * 2 + 16\n",
    "#y_chunk = y[idx[0]: idx[0] + chunk_length] \n",
    "y_chunk = y[idx: idx + chunk_length] \n",
    "width, height = figaspect(0.3)\n",
    "fig = figure(figsize=(width,height))\n",
    "plt.stem(abs(y_chunk))\n"
   ]
  },
  {
   "cell_type": "markdown",
   "metadata": {},
   "source": [
    "Answer the following questions:\n",
    "\n",
    "* Is this a long or short squitter?\n",
    "* Manually decode the 1st 8 bits of the packet. Provide the values with your answer.  If the first sample of the chunk is the begining of the preamble, then the following code will decode the manchester-coding and return the bits content of the packet:\n",
    "\n",
    "```\n",
    "bits = y_chunk[16::2] > y_chunk[17::2]\n",
    "```\n"
   ]
  },
  {
   "cell_type": "code",
   "execution_count": 404,
   "metadata": {},
   "outputs": [
    {
     "name": "stdout",
     "output_type": "stream",
     "text": [
      "[False  True False  True  True  True False  True  True False  True False\n",
      " False  True  True  True False  True  True False  True  True False  True\n",
      "  True  True  True  True  True False False False  True  True  True False\n",
      "  True False  True  True  True  True  True  True  True  True False  True\n",
      " False  True  True False  True  True  True False False False False False\n",
      "  True  True False False False False False False False False  True False\n",
      "  True False  True False False False False  True False False  True  True\n",
      " False False False False False  True False  True False False  True False\n",
      " False False False False False False False False False False  True False\n",
      " False  True False  True]\n"
     ]
    }
   ],
   "source": [
    "# Code Here:\n",
    "bits = y_chunk[16::2] > y_chunk[17::2]\n",
    "\n",
    "print(bits)"
   ]
  },
  {
   "cell_type": "markdown",
   "metadata": {},
   "source": [
    "Answers Here:\n",
    "\n",
    "It's a short squitter.\n",
    "___"
   ]
  },
  {
   "cell_type": "markdown",
   "metadata": {},
   "source": [
    "## Decoding Mode-S packets. \n",
    "\n",
    "We will use the pyModeS package to decode and look at some of the information in the packet you received. The [Github](https://github.com/junzis/pyModeS) contain some information. Much more information can be found [Here](http://mode-s.org/decode/).\n",
    "\n",
    "You will need the following ``bool2Hex`` function to convert your numpy boolean ndarray into the format expected by pyModeS:"
   ]
  },
  {
   "cell_type": "code",
   "execution_count": 405,
   "metadata": {
    "collapsed": true
   },
   "outputs": [],
   "source": [
    "def bool2Hex(lst):\n",
    "    tmp =  ''.join(['1' if x else '0' for x in lst])\n",
    "    return hex(int(tmp,2))[2:]"
   ]
  },
  {
   "cell_type": "markdown",
   "metadata": {},
   "source": [
    "To see if the package is valid, with no errors, we can check its CRC. you should get a string of zeros. Otherwise, there's errors. \n",
    "\n",
    "For a long squitter you need to provide the function with 28 bytes, for a short squitter 14 bytes. we will try them both. \n",
    "\n",
    "```\n",
    "msg = bool2Hex(bits)\n",
    "print(\"Long:\", pms.crc(msg))\n",
    "\n",
    "msg = bool2Hex(bits)\n",
    "print(\"Short:\",pms.crc(msg[:14))\n",
    "```\n",
    "\n",
    "For the purpose of debugging (only if your message does not work),  here's a valid adsb packet:\n",
    "```\n",
    "msg = '8da1286c584f34d474cdc937cdbc'\n",
    "```"
   ]
  },
  {
   "cell_type": "code",
   "execution_count": 455,
   "metadata": {},
   "outputs": [
    {
     "name": "stdout",
     "output_type": "stream",
     "text": [
      "CRC Long: 111011011100101100111110\n",
      "CRC Short: 000000000000000000000101\n"
     ]
    }
   ],
   "source": [
    "msg = bool2Hex(bits)\n",
    "#msg = '8da1286c584f34d474cdc937cdbc'\n",
    "print('CRC Long:',pms.crc(msg))\n",
    "print('CRC Short:',pms.crc(msg[:14]))"
   ]
  },
  {
   "cell_type": "markdown",
   "metadata": {},
   "source": [
    "Next, we will look at the type of packet. The following information is copied from the pyModeS github:\n",
    "```\n",
    "Python library for Mode-S message decoding. Support Downlink Formats (DF) are:\n",
    "\n",
    "Automatic Dependent Surveillance - Broadcast (ADS-B) (DF17)\n",
    "aircraft information that contains: ICAO address, position, altitude, velocity (ground speed), callsign, etc.\n",
    "Mode-S Elementary Surveillance (ELS) (DF4 and DF5).\n",
    "DF4: Altitude\n",
    "DF5: Squawk code\n",
    "Mode-S Enhanced Surveillance (EHS) (DF20 and DF21). Additional information in response to SSR interrogation, such as: true airspeed, indicated airspeed, mach number, wind, temperature, etc.\n",
    "DF20: Altitude\n",
    "DF21: Squawk code\n",
    "BDS 2,0 Aircraft identification\n",
    "BDS 2,1 Aircraft and airline registration markings\n",
    "BDS 4,0 Selected vertical intention\n",
    "BDS 4,4 Meteorological routine air report\n",
    "BDS 5,0 Track and turn report\n",
    "BDS 5,3 Air-referenced state vector\n",
    "BDS 6,0 Heading and speed report\n",
    "```\n",
    "\n",
    "To find the type of packet, use:\n",
    "\n",
    "```pms.df(bool2Hex(bits)))```"
   ]
  },
  {
   "cell_type": "code",
   "execution_count": 407,
   "metadata": {},
   "outputs": [
    {
     "data": {
      "text/plain": [
       "11"
      ]
     },
     "execution_count": 407,
     "metadata": {},
     "output_type": "execute_result"
    }
   ],
   "source": [
    "#Code Here:\n",
    "pms.df(bool2Hex(bits))\n"
   ]
  },
  {
   "cell_type": "markdown",
   "metadata": {},
   "source": [
    "Each Mode-S device has a unique number given by the International Civil Aviation Organization (ICAO). This will enable you to identify the airplane. \n",
    "\n",
    "If your packet is ADS-B (DF17) run:\n",
    "```\n",
    "pms.adsb.icao(bool2Hex(bits))\n",
    "```\n",
    "\n",
    "If your packet is ELS (DF4, DF5) run:\n",
    "```\n",
    "pms.els.icao(bool2Hex(bits))\n",
    "```\n",
    "\n",
    "If your packet is EHS (DF20, DF21) run:\n",
    "```\n",
    "pms.ehs.icao(bool2Hex(bits))\n",
    "```\n",
    "\n",
    "You can then use the [World Aircraft Database](https://junzis.com/adb/) to quarry the ICAO address.\n",
    "\n",
    "For example, \n",
    "\n",
    "```\n",
    "\n",
    "|ICAO Addr.\t|Reg. ID\t|Model\t|Aircraft Type\t           |Operator\t     |Timestamp\t         |  \n",
    "|A34358\t    |N30913     |B788\t|Boeing 787-8 Dreamliner + |United Airlines +|2018-02-11 18:30:03|\n",
    "\n",
    "```"
   ]
  },
  {
   "cell_type": "code",
   "execution_count": 408,
   "metadata": {},
   "outputs": [
    {
     "data": {
      "text/plain": [
       "'a76df8'"
      ]
     },
     "execution_count": 408,
     "metadata": {},
     "output_type": "execute_result"
    }
   ],
   "source": [
    "#Code Here:\n",
    "pms.adsb.icao(bool2Hex(bits))\n"
   ]
  },
  {
   "cell_type": "markdown",
   "metadata": {},
   "source": [
    "If the message is of type DF17, i.e. ADS-B, you look further. First check the typecode:\n",
    "```\n",
    "pms.adsb.typecode(msg)\n",
    "```\n"
   ]
  },
  {
   "cell_type": "code",
   "execution_count": 409,
   "metadata": {},
   "outputs": [
    {
     "data": {
      "text/plain": [
       "29"
      ]
     },
     "execution_count": 409,
     "metadata": {},
     "output_type": "execute_result"
    }
   ],
   "source": [
    "#Code Here:\n",
    "pms.adsb.typecode(msg[:14])"
   ]
  },
  {
   "cell_type": "markdown",
   "metadata": {},
   "source": [
    "Typecodes 1-4 will have callsign information, which can extracted via:\n",
    "```\n",
    "pms.adsb.callsign(msg)\n",
    "```\n",
    "\n",
    "Typecodes 5-8 / 9-18 will have surface/airborne position and altitude information. For position, you will need two packets. Information can be found: [Here](http://mode-s.org/decode/adsb/airborne-position.html), but altitude in ft can be extracted via:\n",
    "```\n",
    "pms.adsb.altitude(msg)\n",
    "```\n",
    "\n",
    "Typcode 19 will have velocity and heading information:\n",
    "```\n",
    "pms.adsb.velocity(msg)          # handles both surface & airborne messages\n",
    "pms.adsb.speed_heading(msg)     # handles both surface & airborne messages\n",
    "pms.adsb.surface_velocity(msg)\n",
    "pms.adsb.airborne_velocity(msg)\n",
    "```\n",
    "\n",
    "The example message is typecode 11, so the altitude of the airplane is:\n",
    "\n",
    "```\n",
    "print('Altitude:', pms.adsb.altitude(msg),'(ft)')\n",
    "\n",
    "Altitude: 14675 (ft)\n",
    "```"
   ]
  },
  {
   "cell_type": "code",
   "execution_count": 410,
   "metadata": {},
   "outputs": [],
   "source": [
    "#Code Here:\n",
    "#pms.adsb.callsign(msg)\n",
    "\n",
    "#pms.adsb.altitude(msg)\n",
    "\n",
    "#pms.adsb.velocity(msg)          # handles both surface & airborne messages\n",
    "#pms.adsb.speed_heading(msg)     # handles both surface & airborne messages\n",
    "#pms.adsb.surface_velocity(msg)\n",
    "#pms.adsb.airborne_velocity(msg)"
   ]
  },
  {
   "cell_type": "markdown",
   "metadata": {},
   "source": [
    "## Preamble Detection\n",
    "\n",
    "We would like to automatically detect packets. Detecting the preamble is a good way to start, as the preamble is the same for all packets. In general, a good detector should have the minimum number of false negatives and false positives. For ADS-B packets, we care more about false negatives, since this means that we may be missing an important packet. At the same time, a false positive would result in a packet which we can not decode, which is not harmful, except that we spend time in extra computation to perform parity checks. \n",
    "\n",
    "#### Noise floor estimation\n",
    "When looking at detection, it is useful to know what is the noise level compared to the signal level. This can help setting thresholds for detecting signals. When noise has Gaussian statistics, we can calculate the sample mean and sample standard deviation to estimate its distribution. Unfortunately, our received signal is not only contaminated by Gaussian random noise (actually, the magnitue is [Rayleigh distributed](https://en.wikipedia.org/wiki/Rayleigh_distribution)  -- not Gaussian, but we will ignore that). It is also contaminated by interference as well as bursts of ADS-B packet data. If we compute the sample mean and standard deviation, they could be biased by strong outliers coming from the packet bursts. \n",
    "\n",
    "One solution is to use robust estimation using median calculations. The median is a measure, which is robust to outliers and can be used to estimate the mean. In order to robustly estimate the standard deviation we can use the Median Absolute Deviation (MAD) estimator: http://en.wikipedia.org/wiki/Median_absolute_deviation. The MAD is computed in the following way:\n",
    "\n",
    "$$ \\mathrm{MAD}(X) = \\mathrm{median}(|X - \\mathrm{median}(X)|) $$\n",
    "\n",
    "As it turns out, the standard deviation can be approximated from the MAD by:\n",
    "\n",
    "$$\\sigma \\approx 1.4826 \\mathrm{MAD} $$\n",
    "\n",
    "While this should work most of the time, I found that the MAD does not work well on the SDR data. The reason is that the SDR has only 8-bit accuracy. This quantization throws off the MAD, and was making me mad as well.\n",
    "\n",
    "##### Iterative estimation with outlier rejection\n",
    "Instead, we will look at an iterative calculation which ignores outliers. The idea is simple: We will compute the mean and standard deviation with the outliers. These, will be biased of course. We will use these biased estimators to calculate a threshold and recompute the mean and standard deviation within the threshold -- thus throwing away the largest outliers. We will repeat a few more times till the result converges.\n",
    "\n",
    "* Compute the mean ``y_mean`` and standard deviation ``y_std`` of the sequence. You will find the functions ``mean`` and ``std`` most useful.\n",
    "* Compute a threshold -- we will set the threshold to be mean + 4 x standard deviation. This will guarentee that any sample larger than that is likely to be an outlier. \n",
    "* Find the indeces of the sequence which are lower than the threshold and repeat the calculations only using these inddeces. You will find the function ``nonzero`` useful.\n",
    "* Repeat 4 more times -- you will see that the numbers converge quickly -- if not immediately.\n"
   ]
  },
  {
   "cell_type": "code",
   "execution_count": 429,
   "metadata": {},
   "outputs": [
    {
     "name": "stdout",
     "output_type": "stream",
     "text": [
      "m: 0.0348224917521\n",
      "0.129976926424\n",
      "m: 1184151.76606\n",
      "0.129976926424\n",
      "m: 6257.5\n",
      "0.129976926424\n",
      "m: 6258.0\n",
      "0.129976926424\n",
      "m: 6257.0\n",
      "0.129976926424\n",
      "[    1     2     3 ..., 12512 12513 12514]\n"
     ]
    }
   ],
   "source": [
    "#Code here\n",
    "def threshold_iter(sig, iterations):\n",
    "    for i in range(iterations):\n",
    "        sig_mean = mean(sig)\n",
    "        print('m: ' + str(sig_mean))\n",
    "        sig_std = std(sig)\n",
    "        threshold = y_mean + 4*y_std\n",
    "        print(threshold)\n",
    "        sig = nonzero(sig > threshold)[0]  \n",
    "    return sig\n",
    "\n",
    "y_th = threshold_iter(y, 5)\n",
    "print(y_th)"
   ]
  },
  {
   "cell_type": "markdown",
   "metadata": {},
   "source": [
    "#### Signal Amplitude Detector \n",
    "Optimal thresholds based on noise are beyond the scope of this lab. However, we need to come up with a threshold for which we can say that a received signal (ANY signal, not just ADS-B) is above it. \n",
    "A safe bet would be the mean plus some multiples of the standard deviation. A factor of 3 to 10 is reasonable.  \n",
    "\n",
    "\n",
    "* set the threshold to be `thresh = y_mean + alhpa*y_std`, when alpha is 3 to 6. (Experiment! It will depend on the lefel of spiky noise in the data as well.)\n",
    "* find all the indexes for which the received signal is greater than the threshold. Call the list `idx_sig`. We will use these indexes later to detect preambles (Hint: use `nonzero(input)[0]`)\n",
    "\n",
    "Once you estimated the threshold, you can reuse it for subsequenct captures, and do not need to recalculate it. You can refresh the estimates periodically as things may change over time. \n",
    "\n",
    "Plot the sequence again, with a line at the threshold to visualize if you got it correctly. "
   ]
  },
  {
   "cell_type": "code",
   "execution_count": 432,
   "metadata": {},
   "outputs": [],
   "source": [
    "alpha = 4\n",
    "sig_thresh = y_mean+ alpha*y_std\n",
    "true_idx_sig = nonzero(y > sig_thresh)[0]"
   ]
  },
  {
   "cell_type": "code",
   "execution_count": 433,
   "metadata": {
    "scrolled": false
   },
   "outputs": [
    {
     "data": {
      "image/png": "[encoded data removed]",
      "text/plain": [
       "<matplotlib.figure.Figure at 0x1387010b8>"
      ]
     },
     "metadata": {},
     "output_type": "display_data"
    }
   ],
   "source": [
    "%matplotlib inline\n",
    "\n",
    "width, height = figaspect(0.3)\n",
    "fig = figure(figsize=(width,height))\n",
    "p = plt.plot(r_[0:len(y)],abs(y),r_[0:len(y)],ones((len(y)))*sig_thresh)\n",
    "\n"
   ]
  },
  {
   "cell_type": "code",
   "execution_count": 98,
   "metadata": {},
   "outputs": [
    {
     "data": {
      "text/plain": [
       "9704"
      ]
     },
     "execution_count": 98,
     "metadata": {},
     "output_type": "execute_result"
    }
   ],
   "source": [
    "plt.close(fig)\n",
    "%xdel fig\n",
    "%xdel p\n",
    "gc.collect(2)"
   ]
  },
  {
   "cell_type": "markdown",
   "metadata": {},
   "source": [
    "At this point, we suggest that you take a look at the memory status of your system and use the workaround to fre some of the memory matplotlib has taken!\n"
   ]
  },
  {
   "cell_type": "code",
   "execution_count": null,
   "metadata": {
    "collapsed": true
   },
   "outputs": [],
   "source": [
    "!free -h"
   ]
  },
  {
   "cell_type": "markdown",
   "metadata": {},
   "source": [
    "#### Normalized Cross Correlation Detection\n",
    "Detecting that a signal is received does not mean that it is the right signal! We would like to make sure it is the preamble. There are many ways we can go about detecting the preamble. We already saw in Lab 1 that matched filtering can be used for detection.  Take a look at the ideal preamble below, and  a preamble we (Frank and I) measured when preparing the lab.\n",
    "\n",
    "\n",
    "<img src=\"https://inst.eecs.berkeley.edu/~ee123/sp14/lab/real_adsb_packet.png\" alt=\"Drawing\" style=\"height: 200px;\"/>\n",
    "\n",
    "\n"
   ]
  },
  {
   "cell_type": "markdown",
   "metadata": {},
   "source": [
    "We saw that matched filtering is implemented using cross correlation. Here, we will also use cross correlation. However, we need to remember to subtract the mean from each of the signals! (We didn't do it for the chirp, since the chirp has zero mean). The cross correlation is defined as:\n",
    "$$ R_{xy}[n] = \\sum_{k=0}^{15} (x[n+k]- \\hat{x}_n) (y[k] - \\hat{y} )$$\n",
    ", where $\\hat{x}_n$ is the mean of $x$ in a window size 16 around the index $n$.\n",
    "\n",
    "The issue is that the result would depend on the signal's magnitude. It will be hard to give a \"score\" for detected or not detected. Therefore we will use a normalized cross correlation instead, which is defined as \n",
    "$$ \\hat R_{xy}[n] = \\frac{\\sum_{k=0}^{15} (x[n+k]- \\hat{x}_n) (y[k] - \\hat{y} )}{||x[n]-\\hat{x}_n||\\cdot ||y-\\hat y||}$$\n",
    "This will guarentee that the result is bounded between -1 and 1. "
   ]
  },
  {
   "cell_type": "markdown",
   "metadata": {},
   "source": [
    "To make the implementation fast and easy, we will first write a function that calculates the normalized cross correlation of a 16 sample window of the signal. We will then, loop through only the indexes of the signal for which the signal amplitude detection was above the threshold.  Using for loops is not an efficient implementation in Python, but it will do for this purpose. You are more than welcome to write your own efficient implementation. \n",
    "\n",
    "* Write a function `detectPreambleXcorr(chunk,corrthresh)`. The function accepets an array of 16 samples, e.g., $x[n]\\cdots x[n+15]$. It evaluates the normalized cross correlation with an ideal preamble, and returns a True if it is greater than `corrthresh`"
   ]
  },
  {
   "cell_type": "code",
   "execution_count": 438,
   "metadata": {},
   "outputs": [
    {
     "name": "stderr",
     "output_type": "stream",
     "text": [
      "/Users/miamirkovic/anaconda3/lib/python3.6/site-packages/ipykernel_launcher.py:13: RuntimeWarning: invalid value encountered in true_divide\n",
      "  del sys.path[0]\n"
     ]
    }
   ],
   "source": [
    "def detectPreambleXcorr(chunk, corrthresh):\n",
    "    # The function accepets an array of 16 samples, e.g., x[n]⋯x[n+15]. \n",
    "    # It evaluates the normalized cross correlation with an ideal preamble, \n",
    "    # and returns a True if it is greater than corrthresh\n",
    "    \n",
    "    # ideal preamble is 1 at [0, 2, 7, 9]\n",
    "    preamble = [1, 0, 1, 0, 0, 0, 0, 1, 0, 1, 0, 0, 0, 0, 0, 0]\n",
    "    #preamble_reversed = [0, 0, 0, 0, 0, 0, 1, 0, 1, 0, 0, 0, 0, 1, 0, 1]\n",
    "    c_mean = mean(chunk)\n",
    "    p_mean = mean(preamble)\n",
    "    \n",
    "    chunk_d = np.subtract(chunk, c_mean)\n",
    "    chunk = chunk_d/np.linalg.norm(chunk_d)\n",
    "    \n",
    "    preamble_d = np.subtract(preamble, p_mean)\n",
    "    preamble = preamble_d/np.linalg.norm(preamble_d)\n",
    "    #corr = sig.fftconvolve(chunk, preamble_reversed)\n",
    "    corr = np.dot(chunk, preamble)\n",
    "    return (corr > corrthresh)\n",
    "      \n",
    "idx_sig = nonzero([detectPreambleXcorr(y[i:i+16], 0.9) for i in range(len(y)-16)])[0]\n"
   ]
  },
  {
   "cell_type": "markdown",
   "metadata": {},
   "source": [
    "* Loop over the inputs for which the signal amplitude was above the amplitude threshold to detect packets. Set a correlation threshold of 0.5 . Store all the positions of detected packet in an array `idx_corr`. If you did not detect any packets, reduce the threshold. (Warning: This operation may take more than a minute on some laptops for a low signal threshold, make sure the threshold is set such that you don't have more than 4000 indeces to check)\n",
    "\n",
    "\n"
   ]
  },
  {
   "cell_type": "code",
   "execution_count": 439,
   "metadata": {},
   "outputs": [
    {
     "name": "stdout",
     "output_type": "stream",
     "text": [
      "You set your threshold well. Good to go!\n"
     ]
    }
   ],
   "source": [
    "if len(idx_sig) < 4000:\n",
    "    print('You set your threshold well. Good to go!')\n",
    "else:\n",
    "    print('Probably should set a higher threshold')"
   ]
  },
  {
   "cell_type": "markdown",
   "metadata": {},
   "source": [
    "* Create a matrix `msgs`, in which each row contains a detected packet. Make each row `(16 + 112*2)` long to accomodate the long squitters. \n",
    "* Display the matrix as an image. You should be able to see four vertical lines on the left corresponding to the preamble. Do you see short and long squitters?"
   ]
  },
  {
   "cell_type": "code",
   "execution_count": 440,
   "metadata": {},
   "outputs": [
    {
     "data": {
      "text/plain": [
       "<matplotlib.text.Text at 0x13c6d1cc0>"
      ]
     },
     "execution_count": 440,
     "metadata": {},
     "output_type": "execute_result"
    },
    {
     "data": {
      "image/png": "[encoded data removed]",
      "text/plain": [
       "<matplotlib.figure.Figure at 0x13c62ef60>"
      ]
     },
     "metadata": {},
     "output_type": "display_data"
    }
   ],
   "source": [
    "%matplotlib inline\n",
    "\n",
    "\n",
    "# Code here:\n",
    "msgs = np.asarray([y[i:i+(16 + 112*2)] for i in idx_sig])\n",
    "#msgs = np.reshape(arr, ((16 + 112*2), len(idx_sig)))\n",
    "\n",
    "\n",
    "width, height = figaspect(0.3)\n",
    "fig = figure(figsize=(width,height))\n",
    "plt.imshow(sqrt(msgs), aspect='auto', cmap=\"gray\")\n",
    "plt.ylabel(\"Incoming messages\")\n",
    "plt.xlabel(\"The Received message\")"
   ]
  },
  {
   "cell_type": "markdown",
   "metadata": {},
   "source": [
    "Take a look at this code. It checks the packets CRC, and coundt the valid packets. It also performs some decoding. Run the following to check how many valid messages you captured:\n"
   ]
  },
  {
   "cell_type": "code",
   "execution_count": 441,
   "metadata": {},
   "outputs": [
    {
     "name": "stdout",
     "output_type": "stream",
     "text": [
      "1 )CRC OK, DF 11 MSG: 5da25fca12c251\n",
      "2 )CRC OK, DF 17 ICAO: a2e615 typecode: 19 MSG: 8da2e61599091db1f8109a9f88e0\n",
      "3 )CRC OK, DF 17 ICAO: aac136 typecode: 13 MSG: 8daac1366817c11dc403310322ba\n",
      "4 )CRC OK, DF 11 MSG: 5d406d4d16bbe8\n",
      "5 )CRC OK, DF 11 MSG: 59aa6fa40f1f8d\n",
      "6 )CRC OK, DF 11 MSG: 59a24757d5d956\n",
      "7 )CRC OK, DF 11 MSG: 5da25fca12c251\n",
      "8 )CRC OK, DF 17 ICAO: 406d4d typecode: 11 MSG: 8d406d4d583d0117440aa041c1db\n",
      "9 )CRC OK, DF 17 ICAO: 406d4d typecode: 19 MSG: 8d406d4d9908969648088f47810b\n",
      "10 )CRC OK, DF 17 ICAO: aac136 typecode: 13 MSG: 8daac1366817d4b2a6b162dd90c2\n",
      "11 )CRC OK, DF 17 ICAO: aac136 typecode: 19 MSG: 8daac1369914d10fa06885ae319d\n",
      "12 )CRC OK, DF 17 ICAO: 406d4d typecode: 29 MSG: 8d406d4dea15985d753f8ca673e9\n"
     ]
    }
   ],
   "source": [
    "count=0\n",
    "for n in r_[0:msgs.shape[0]] :\n",
    "    bits = msgs[n,16::2] > msgs[n,17::2]\n",
    "    msg = bool2Hex(bits)\n",
    "    crc = pms.crc(msg)\n",
    "    crc_bool = (np.fromstring(crc,dtype=int8)-48) # convert to ASCII and sutract 48 which is ASCII of 0\n",
    "    if (all (crc_bool==0)):  #Long\n",
    "        count=count+1\n",
    "        print(count,\")CRC OK, DF\",pms.df(msg),\"ICAO:\",pms.adsb.icao(msg),\"typecode:\",pms.adsb.typecode(msg),\"MSG:\",msg)\n",
    "    else :   #short or nothing\n",
    "        crc = pms.crc(msg[:14])  # look at a short message\n",
    "        crc_bool = (np.fromstring(crc,dtype=int8)-48) # convert to ASCII and sutract 48 which is ASCII of 0\n",
    "        if (all (crc_bool==0)):  # short message\n",
    "            count=count+1\n",
    "            print(count,\")CRC OK, DF\",pms.df(msg),\"MSG:\",msg[:14])\n",
    "            "
   ]
  },
  {
   "cell_type": "markdown",
   "metadata": {},
   "source": [
    "#### Non-linear Classification: Preamble Detection Using Logic\n",
    "\n",
    "The previous approach is considered a linear classifier. We looked at the correlation and then decided on detection if the correlation was more than 1/2. The issue is, that with noise and interference, the \"shape\" of the preamble might differe considerably and will result in low-correlation.  There are other classifiers, which can be made immune to different sources of imperfections. \n",
    "Our received preambles have varying total amplitudes (planes are near and far), have bias, and also exhibit amplitude modulation. At the same time, the preamble is relatively short. Instead of matched filtering, we can devise a non-linear descriptor which may be more robust. Here, we will look at detecting the preamble using logic.\n",
    "\n",
    "\n",
    "<img src=\"https://inst.eecs.berkeley.edu/~ee123/sp14/lab/real_adsb_packet.png\" alt=\"Drawing\" style=\"height: 200px;\"/>\n",
    "\n",
    "\n",
    "Considering again the ideal preamble.  Notice, that there are four values which are high `[0, 2, 7, 9]`and there are 12 values which are low `[1,3,4,5,6,8,10,11,12,13,14,15]`. If we just consider logic, e.g., comparing high's and low's , we can make our detection significantly more robust to the bias and amplitude modulation.  Another benefit of using logic is that it can be computationally more efficient than normalized matched filtering. Because of this, it is more suitable for real-time applications.\n",
    "\n",
    "Of course, it is possible to introduce more conditions. For example, in order to avoid detection of noise signal that resembles the logic, we can set a minimum limit on the amplitude of high's we consider a detection. In addition, to be able to separate between high's and low's we need to have a good amplitude margin -- so we can set a threshold for a minimum average margin between them.\n",
    "\n",
    "\n",
    "* Implement a function `idx_preamble = detectPreamble( y )`. The function will accept the entire signal and will return a list of indices containing the start of each preamble. The basic logic of the function should be based on comparing high's and low's bits. (Hint: use `nonzero` to find the indices that satisfy the conditions). If you want to add thresholds using the mean-variance estimate as well, you are more than welcome! \n",
    "* Try to make your function as efficient as possible, since it will be used in real-time in the next part\n",
    "* Run the function on the signal `y`\n",
    "\n",
    "For a reference, our own implementation takes less than 3 seconds to finish. "
   ]
  },
  {
   "cell_type": "code",
   "execution_count": 442,
   "metadata": {},
   "outputs": [],
   "source": [
    "#preamble = bool2Hex([1, 0, 1, 0, 0, 0, 0, 1, 0, 1, 0, 0, 0, 0, 0, 0])\n",
    "preamble = [1, 0, 1, 0, 0, 0, 0, 1, 0, 1, 0, 0, 0, 0, 0, 0]\n",
    "#y_th = [y[i] for i in true_idx_sig]\n",
    "#print(type(preamble))\n",
    "\n",
    "def detectPreamble(y):\n",
    "    # Function accepts sdr samples and returns a list of indices containing the start of each preamble.\n",
    "    # Your fast code here:\n",
    "    y = (y > 0.3)\n",
    "    #print(y)\n",
    "    idx_sig = nonzero([np.all(np.logical_not(np.logical_xor(y[i:i+16], preamble))) for i in range(len(y)-16)])[0]\n",
    "    #return [np.all(np.logical_and(y[i:i+16], preamble)) for i in range(len(y-16))]\n",
    "    return idx_sig\n",
    "    \n",
    "    \n",
    "    \n",
    "    \n",
    "    \n",
    "    \n"
   ]
  },
  {
   "cell_type": "code",
   "execution_count": 443,
   "metadata": {},
   "outputs": [],
   "source": [
    "idx_preamble = detectPreamble(y)\n"
   ]
  },
  {
   "cell_type": "code",
   "execution_count": 444,
   "metadata": {},
   "outputs": [
    {
     "name": "stdout",
     "output_type": "stream",
     "text": [
      "{800515, 684933, 670344, 1779085, 1448464, 862737, 618131, 2009748, 1483670, 1521304, 205724, 1866652, 1306272, 949668, 1203366, 861608, 676009, 856873, 1342256, 1338289, 1023539, 903092, 180024, 1261369, 845247, 1207232, 1320799, 908129, 1600998, 361322, 834672, 877559, 1040251, 1542014}\n"
     ]
    }
   ],
   "source": [
    "print(set(idx_preamble))"
   ]
  },
  {
   "cell_type": "markdown",
   "metadata": {},
   "source": [
    "* Create a matrix, in which each row contains a detected packet. Make each row `16 + 112*2` long to accomodate the long squitters. \n",
    "* Display the matrix as an image. You should be able to see four vertical lines on the left corresponding to the preamble. Do you see short and long squitters?"
   ]
  },
  {
   "cell_type": "code",
   "execution_count": 445,
   "metadata": {},
   "outputs": [],
   "source": [
    "# Your code here\n",
    "# Code here:\n",
    "msgs = np.asarray([y[i:i+(16 + 112*2)] for i in idx_preamble])\n",
    "#msgs = np.reshape(arr, ((16 + 112*2), len(idx_sig)))\n",
    "   "
   ]
  },
  {
   "cell_type": "code",
   "execution_count": 446,
   "metadata": {},
   "outputs": [
    {
     "data": {
      "text/plain": [
       "<matplotlib.text.Text at 0x13d09ca90>"
      ]
     },
     "execution_count": 446,
     "metadata": {},
     "output_type": "execute_result"
    },
    {
     "data": {
      "image/png": "[encoded data removed]",
      "text/plain": [
       "<matplotlib.figure.Figure at 0x13ccbebe0>"
      ]
     },
     "metadata": {},
     "output_type": "display_data"
    }
   ],
   "source": [
    "# Display as an image\n",
    "\n",
    "width, height = figaspect(0.3)\n",
    "fig = figure(figsize=(width,height))\n",
    "plt.imshow(sqrt(msgs), aspect='auto', cmap=\"gray\")\n",
    "plt.ylabel(\"Incoming messages\")\n",
    "plt.xlabel(\"The Received message\")"
   ]
  },
  {
   "cell_type": "markdown",
   "metadata": {},
   "source": [
    "Take a look at this code. It checks the packets CRC, and coundt the valid packets. It also performs some decoding. Run the following to check how many valid messages you captured. Did you decode the same, more or less packets than for the linear classifier?\n"
   ]
  },
  {
   "cell_type": "code",
   "execution_count": 447,
   "metadata": {},
   "outputs": [
    {
     "name": "stdout",
     "output_type": "stream",
     "text": [
      "1 )CRC OK, DF 11 MSG: 5dacaae3c3e3b5\n",
      "2 )CRC OK, DF 11 MSG: 5d406d4d16bbe8\n",
      "3 )CRC OK, DF 11 MSG: 59aa6fa40f1f8d\n",
      "4 )CRC OK, DF 17 ICAO: 406d4d typecode: 19 MSG: 8d406d4d9908969648088f47810b\n",
      "5 )CRC OK, DF 17 ICAO: aac136 typecode: 19 MSG: 8daac1369914d10fa06885ae319d\n"
     ]
    }
   ],
   "source": [
    "count=0\n",
    "for n in r_[0:msgs.shape[0]] :\n",
    "    bits = msgs[n,16::2] > msgs[n,17::2]\n",
    "    msg = bool2Hex(bits)\n",
    "    crc = pms.crc(msg)\n",
    "    crc_bool = (np.fromstring(crc,dtype=int8)-48) # convert to ASCII and sutract 48 which is ASCII of 0\n",
    "    if (all (crc_bool==0)):  #Long\n",
    "        count=count+1\n",
    "        print(count,\")CRC OK, DF\",pms.df(msg),\"ICAO:\",pms.adsb.icao(msg),\"typecode:\",pms.adsb.typecode(msg),\"MSG:\",msg)\n",
    "    else :   #short or nothing\n",
    "        crc = pms.crc(msg[:14])  # look at a short message\n",
    "        crc_bool = (np.fromstring(crc,dtype=int8)-48) # convert to ASCII and sutract 48 which is ASCII of 0\n",
    "        if (all (crc_bool==0)):  # short message\n",
    "            count=count+1\n",
    "            print(count,\")CRC OK, DF\",pms.df(msg),\"MSG:\",msg[:14])"
   ]
  },
  {
   "cell_type": "markdown",
   "metadata": {},
   "source": [
    "Answer Here:\n",
    "\n",
    "We decoded fewer packets than with the linear classifier. \n",
    "\n",
    "_____"
   ]
  },
  {
   "cell_type": "markdown",
   "metadata": {},
   "source": [
    "### Some more details:\n",
    "\n",
    "Now that you can detect the preambles, the only task left is to decode the messages. \n",
    "In general, you have enough information to build an application that receives data from the SDR, detects packets, decodes, looks for position information and display that in real-time with google maps API. \n",
    "But in the next part of the lab, we have provided an ADS-B decoder so that you can extract flight positions and uses your functions. \n",
    "\n",
    "Before this, here's a simple example:\n",
    "\n",
    "In a second test data called ``adsb2.npy``, which can be found on the website there are enough packets to decode positioning. This data was captured on 02/11/2018 around 7pm. There were 5 long squitters that can be detected and decoded. In particular, there are two of typecode 11, which contain the position information. You should have been able to decode these, and I encourage you to. \n",
    "\n",
    "To decode position, you need an even and an odd typecode 11 packet. Even and odd packets are determined by the 54th bit in the packet (or index 53). \n",
    "\n",
    "the first typecode 11 messages received was:\n",
    "```\n",
    "msg1 = '8d406b4a584d34c354ca7db928f7'\n",
    "```\n",
    "the second \n",
    "typecode 11 messages received was:\n",
    "```\n",
    "msg2 = '8d406b4a584d412ed01ce01be074'\n",
    "```\n",
    "\n",
    "Looking at the 54th bit:\n",
    "\n",
    "``print(pms.util.hex2bin(msg1)[53])``\n",
    "``print(pms.util.hex2bin(msg1)[53])``\n",
    "\n",
    "we see that the ``msg1`` is odd, and ``msg2`` is even. \n",
    "\n",
    "To get the position we need to tell the decoding function which was first. We will set a timestamp of 0 \n",
    "for the first message (odd) and a timestamp 1 for the second message (even). The numbers are not important. What is important is which one was first.\n",
    "\n",
    "```\n",
    "pos = pms.adsb.position(msg2,msg1,1,0)\n",
    "```\n",
    "\n",
    "which results in (37.77429, -122.12122)\n",
    "\n",
    "typing 37.77429, -122.12122 into a google map search will show the position!\n",
    "\n",
    "\n",
    "The altitude can be decoded by:\n",
    "```\n",
    "alt1 = pms.adsb.altitude(msg1)\n",
    "alt2 = pms.adsb.altitude(msg2)\n",
    "```\n",
    "\n",
    "These will give 14275' and 14300', which means the airplane was ascending!\n",
    "\n",
    "One of the other packets was a typecode 19, which has airborn velocity and heading information.\n",
    "```\n",
    "msg3 = '8d406b4a9909750d00888abb0521'\n",
    "velocity = pms.adsb.velocity(msg3)\n",
    "heading = pms.adsb.speed_heading(msg3)\n",
    "```\n",
    "\n",
    "We get heading=(385, 74.5) which means 385 knots (443 MPH) and 74.5 degrees -- which means the aircraft was heading north-east.\n",
    "\n",
    "We get velocity = (385,74.5,2112,'GS') corresponding to (speed in knots, heading in degress, rate of climb in ft/min, and speed type 'GS'/'AS' for ground/air speed)\n",
    "\n",
    "Finally, we look at the ICAO address in any of the packets:\n",
    "```\n",
    "icao = pms.adsb.icao(msg3)\n",
    "```\n",
    "which gives icao= 406b4a. This is a boing 787-9 Dreamliner operated by Virgin Atlantic which was going from SFO to LHR.\n"
   ]
  },
  {
   "cell_type": "code",
   "execution_count": 449,
   "metadata": {
    "collapsed": true
   },
   "outputs": [],
   "source": [
    "msg1 = '8d406b4a584d34c354ca7db928f7'\n",
    "msg2 = '8d406b4a584d412ed01ce01be074'\n",
    "msg3 = '8d406b4a9909750d00888abb0521'\n",
    "\n",
    "msg4 = '8d406d4d9908969648088f47810b'\n",
    "msg5 = '8daac1369914d10fa06885ae319d'"
   ]
  },
  {
   "cell_type": "code",
   "execution_count": 454,
   "metadata": {},
   "outputs": [
    {
     "name": "stdout",
     "output_type": "stream",
     "text": [
      "1\n",
      "0\n",
      "[(231, 139.9, -64, 'GS'), (242, 300.8, 1600, 'GS')] [(231, 139.9), (242, 300.8)]\n"
     ]
    }
   ],
   "source": [
    "# code to decode packet informations and position here:\n",
    "print(pms.util.hex2bin(msg4)[53]) \n",
    "print(pms.util.hex2bin(msg5)[53])\n",
    "#pos = pms.adsb.position(msg4)\n",
    "#alt1 = pms.adsb.altitude(msg4)\n",
    "#alt2 = pms.adsb.altitude(msg5)\n",
    "velocity = [pms.adsb.velocity(msg4), pms.adsb.velocity(msg5)]\n",
    "\n",
    "heading = [pms.adsb.speed_heading(msg4), pms.adsb.speed_heading(msg5) ]\n",
    "print(velocity, heading)\n",
    "\n"
   ]
  },
  {
   "cell_type": "markdown",
   "metadata": {},
   "source": [
    "## You are now ready to proceed to the real-time flight radar lab"
   ]
  }
 ],
 "metadata": {
  "kernelspec": {
   "display_name": "Python 3",
   "language": "python",
   "name": "python3"
  },
  "language_info": {
   "codemirror_mode": {
    "name": "ipython",
    "version": 3
   },
   "file_extension": ".py",
   "mimetype": "text/x-python",
   "name": "python",
   "nbconvert_exporter": "python",
   "pygments_lexer": "ipython3",
   "version": "3.6.1"
  }
 },
 "nbformat": 4,
 "nbformat_minor": 1
}
